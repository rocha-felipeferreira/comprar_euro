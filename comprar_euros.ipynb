{
 "cells": [
  {
   "cell_type": "markdown",
   "metadata": {},
   "source": [
    "## Extraction"
   ]
  },
  {
   "cell_type": "code",
   "execution_count": 1,
   "metadata": {},
   "outputs": [],
   "source": [
    "import pandas as pd\n",
    "import requests\n",
    "import json\n",
    "import numpy as np\n",
    "import seaborn as sns \n",
    "import matplotlib.pyplot as plt "
   ]
  },
  {
   "cell_type": "code",
   "execution_count": 2,
   "metadata": {},
   "outputs": [],
   "source": [
    "euro_real_raw = requests.get(\"https://economia.awesomeapi.com.br/json/daily/EUR-BRL/180\")"
   ]
  },
  {
   "cell_type": "code",
   "execution_count": 3,
   "metadata": {},
   "outputs": [],
   "source": [
    "euro_real_json = euro_real_raw.json()"
   ]
  },
  {
   "cell_type": "markdown",
   "metadata": {},
   "source": [
    "## Manipulation"
   ]
  },
  {
   "cell_type": "code",
   "execution_count": 4,
   "metadata": {},
   "outputs": [],
   "source": [
    "euro_real_df = pd.DataFrame(euro_real_json)[[\"high\", \"low\", \"timestamp\"]]"
   ]
  },
  {
   "cell_type": "code",
   "execution_count": 5,
   "metadata": {},
   "outputs": [],
   "source": [
    "euro_real_df[\"timestamp\"] = euro_real_df[\"timestamp\"].astype(\"int\")"
   ]
  },
  {
   "cell_type": "code",
   "execution_count": 6,
   "metadata": {},
   "outputs": [],
   "source": [
    "euro_real_df[\"high\"] = euro_real_df[\"high\"].astype(\"float\")"
   ]
  },
  {
   "cell_type": "code",
   "execution_count": 7,
   "metadata": {},
   "outputs": [],
   "source": [
    "euro_real_df[\"low\"] = euro_real_df[\"low\"].astype(\"float\")"
   ]
  },
  {
   "cell_type": "code",
   "execution_count": 8,
   "metadata": {},
   "outputs": [],
   "source": [
    "euro_real_df[\"date\"] = pd.to_datetime(euro_real_df[\"timestamp\"], unit=\"s\", origin = \"unix\")"
   ]
  },
  {
   "cell_type": "code",
   "execution_count": 9,
   "metadata": {},
   "outputs": [],
   "source": [
    "euro_real_df[\"date\"] = euro_real_df[\"date\"].dt.date"
   ]
  },
  {
   "cell_type": "code",
   "execution_count": 10,
   "metadata": {},
   "outputs": [],
   "source": [
    "euro_real_df = euro_real_df.drop(columns = [\"timestamp\"])"
   ]
  },
  {
   "cell_type": "code",
   "execution_count": 11,
   "metadata": {},
   "outputs": [],
   "source": [
    "euro_real_df[\"price\"] = (euro_real_df[\"high\"] + euro_real_df[\"low\"]) / 2"
   ]
  },
  {
   "cell_type": "code",
   "execution_count": 12,
   "metadata": {},
   "outputs": [],
   "source": [
    "euro_real_df = euro_real_df.iloc[:,2:]"
   ]
  },
  {
   "cell_type": "code",
   "execution_count": 13,
   "metadata": {},
   "outputs": [],
   "source": [
    "euro_real_df = euro_real_df.sort_values(by = \"date\", ascending = True)"
   ]
  },
  {
   "cell_type": "code",
   "execution_count": 14,
   "metadata": {},
   "outputs": [],
   "source": [
    "def rolling_avg_var_x_days(df, n_days):\n",
    "    col_name_avg = \"avg_last_\" + str(n_days) + \"_days\"\n",
    "    df[col_name_avg] = df[\"price\"].rolling(window = n_days).mean()\n",
    "    col_name_var = \"var_today_avg_last_\" + str(n_days) + \"_days\"\n",
    "    df[col_name_var] = (df[\"price\"] - df[col_name_avg])\n",
    "    df = df.sort_index()\n",
    "    df = df.dropna()\n",
    "    return df"
   ]
  },
  {
   "cell_type": "code",
   "execution_count": 15,
   "metadata": {},
   "outputs": [],
   "source": [
    "euro_real_df = rolling_avg_var_x_days(euro_real_df, 15)"
   ]
  },
  {
   "cell_type": "code",
   "execution_count": 16,
   "metadata": {},
   "outputs": [
    {
     "data": {
      "text/html": [
       "<div>\n",
       "<style scoped>\n",
       "    .dataframe tbody tr th:only-of-type {\n",
       "        vertical-align: middle;\n",
       "    }\n",
       "\n",
       "    .dataframe tbody tr th {\n",
       "        vertical-align: top;\n",
       "    }\n",
       "\n",
       "    .dataframe thead th {\n",
       "        text-align: right;\n",
       "    }\n",
       "</style>\n",
       "<table border=\"1\" class=\"dataframe\">\n",
       "  <thead>\n",
       "    <tr style=\"text-align: right;\">\n",
       "      <th></th>\n",
       "      <th>date</th>\n",
       "      <th>price</th>\n",
       "      <th>avg_last_15_days</th>\n",
       "      <th>var_today_avg_last_15_days</th>\n",
       "    </tr>\n",
       "  </thead>\n",
       "  <tbody>\n",
       "    <tr>\n",
       "      <th>0</th>\n",
       "      <td>2024-04-24</td>\n",
       "      <td>5.49835</td>\n",
       "      <td>5.516410</td>\n",
       "      <td>-0.018060</td>\n",
       "    </tr>\n",
       "    <tr>\n",
       "      <th>1</th>\n",
       "      <td>2024-04-23</td>\n",
       "      <td>5.49070</td>\n",
       "      <td>5.512187</td>\n",
       "      <td>-0.021487</td>\n",
       "    </tr>\n",
       "    <tr>\n",
       "      <th>2</th>\n",
       "      <td>2024-04-22</td>\n",
       "      <td>5.50670</td>\n",
       "      <td>5.511297</td>\n",
       "      <td>-0.004597</td>\n",
       "    </tr>\n",
       "    <tr>\n",
       "      <th>3</th>\n",
       "      <td>2024-04-21</td>\n",
       "      <td>5.58130</td>\n",
       "      <td>5.509590</td>\n",
       "      <td>0.071710</td>\n",
       "    </tr>\n",
       "    <tr>\n",
       "      <th>4</th>\n",
       "      <td>2024-04-19</td>\n",
       "      <td>5.57240</td>\n",
       "      <td>5.502223</td>\n",
       "      <td>0.070177</td>\n",
       "    </tr>\n",
       "  </tbody>\n",
       "</table>\n",
       "</div>"
      ],
      "text/plain": [
       "         date    price  avg_last_15_days  var_today_avg_last_15_days\n",
       "0  2024-04-24  5.49835          5.516410                   -0.018060\n",
       "1  2024-04-23  5.49070          5.512187                   -0.021487\n",
       "2  2024-04-22  5.50670          5.511297                   -0.004597\n",
       "3  2024-04-21  5.58130          5.509590                    0.071710\n",
       "4  2024-04-19  5.57240          5.502223                    0.070177"
      ]
     },
     "execution_count": 16,
     "metadata": {},
     "output_type": "execute_result"
    }
   ],
   "source": [
    "euro_real_df.head()"
   ]
  },
  {
   "cell_type": "code",
   "execution_count": 17,
   "metadata": {},
   "outputs": [],
   "source": [
    "euro_real_df = euro_real_df.sort_values(by = \"date\", ascending = True)"
   ]
  },
  {
   "cell_type": "code",
   "execution_count": 18,
   "metadata": {},
   "outputs": [],
   "source": [
    "def rolling_min_var_x_days(df, n_days):\n",
    "    col_name_min = \"min_last_\" + str(n_days) + \"_days\"\n",
    "    df[col_name_min] = df[\"price\"].rolling(window = n_days).min()\n",
    "    col_name_var = \"var_today_min_last_\" + str(n_days) + \"_days\"\n",
    "    df[col_name_var] = (df[\"price\"] - df[col_name_min])\n",
    "    df = df.sort_index()\n",
    "    df = df.dropna()\n",
    "    return df"
   ]
  },
  {
   "cell_type": "code",
   "execution_count": 19,
   "metadata": {},
   "outputs": [],
   "source": [
    "euro_real_df = rolling_min_var_x_days(euro_real_df, 15)"
   ]
  },
  {
   "cell_type": "code",
   "execution_count": 20,
   "metadata": {},
   "outputs": [
    {
     "data": {
      "text/html": [
       "<div>\n",
       "<style scoped>\n",
       "    .dataframe tbody tr th:only-of-type {\n",
       "        vertical-align: middle;\n",
       "    }\n",
       "\n",
       "    .dataframe tbody tr th {\n",
       "        vertical-align: top;\n",
       "    }\n",
       "\n",
       "    .dataframe thead th {\n",
       "        text-align: right;\n",
       "    }\n",
       "</style>\n",
       "<table border=\"1\" class=\"dataframe\">\n",
       "  <thead>\n",
       "    <tr style=\"text-align: right;\">\n",
       "      <th></th>\n",
       "      <th>date</th>\n",
       "      <th>price</th>\n",
       "      <th>avg_last_15_days</th>\n",
       "      <th>var_today_avg_last_15_days</th>\n",
       "      <th>min_last_15_days</th>\n",
       "      <th>var_today_min_last_15_days</th>\n",
       "    </tr>\n",
       "  </thead>\n",
       "  <tbody>\n",
       "    <tr>\n",
       "      <th>0</th>\n",
       "      <td>2024-04-24</td>\n",
       "      <td>5.49835</td>\n",
       "      <td>5.516410</td>\n",
       "      <td>-0.018060</td>\n",
       "      <td>5.4185</td>\n",
       "      <td>0.07985</td>\n",
       "    </tr>\n",
       "    <tr>\n",
       "      <th>1</th>\n",
       "      <td>2024-04-23</td>\n",
       "      <td>5.49070</td>\n",
       "      <td>5.512187</td>\n",
       "      <td>-0.021487</td>\n",
       "      <td>5.4185</td>\n",
       "      <td>0.07220</td>\n",
       "    </tr>\n",
       "    <tr>\n",
       "      <th>2</th>\n",
       "      <td>2024-04-22</td>\n",
       "      <td>5.50670</td>\n",
       "      <td>5.511297</td>\n",
       "      <td>-0.004597</td>\n",
       "      <td>5.4185</td>\n",
       "      <td>0.08820</td>\n",
       "    </tr>\n",
       "    <tr>\n",
       "      <th>3</th>\n",
       "      <td>2024-04-21</td>\n",
       "      <td>5.58130</td>\n",
       "      <td>5.509590</td>\n",
       "      <td>0.071710</td>\n",
       "      <td>5.4185</td>\n",
       "      <td>0.16280</td>\n",
       "    </tr>\n",
       "    <tr>\n",
       "      <th>4</th>\n",
       "      <td>2024-04-19</td>\n",
       "      <td>5.57240</td>\n",
       "      <td>5.502223</td>\n",
       "      <td>0.070177</td>\n",
       "      <td>5.4185</td>\n",
       "      <td>0.15390</td>\n",
       "    </tr>\n",
       "  </tbody>\n",
       "</table>\n",
       "</div>"
      ],
      "text/plain": [
       "         date    price  avg_last_15_days  var_today_avg_last_15_days  \\\n",
       "0  2024-04-24  5.49835          5.516410                   -0.018060   \n",
       "1  2024-04-23  5.49070          5.512187                   -0.021487   \n",
       "2  2024-04-22  5.50670          5.511297                   -0.004597   \n",
       "3  2024-04-21  5.58130          5.509590                    0.071710   \n",
       "4  2024-04-19  5.57240          5.502223                    0.070177   \n",
       "\n",
       "   min_last_15_days  var_today_min_last_15_days  \n",
       "0            5.4185                     0.07985  \n",
       "1            5.4185                     0.07220  \n",
       "2            5.4185                     0.08820  \n",
       "3            5.4185                     0.16280  \n",
       "4            5.4185                     0.15390  "
      ]
     },
     "execution_count": 20,
     "metadata": {},
     "output_type": "execute_result"
    }
   ],
   "source": [
    "euro_real_df.head()"
   ]
  },
  {
   "cell_type": "code",
   "execution_count": 21,
   "metadata": {},
   "outputs": [],
   "source": [
    "euro_real_df[\"is_best_price_last_15_days\"] = np.where(euro_real_df.price == euro_real_df.min_last_15_days, 1, 0)\n",
    "# Verificar isso aqui"
   ]
  },
  {
   "cell_type": "code",
   "execution_count": 22,
   "metadata": {},
   "outputs": [],
   "source": [
    "euro_real_df[\"price\"] = round(euro_real_df[\"price\"], 2)"
   ]
  },
  {
   "cell_type": "markdown",
   "metadata": {},
   "source": [
    "## Visualisation"
   ]
  },
  {
   "cell_type": "code",
   "execution_count": 23,
   "metadata": {},
   "outputs": [
    {
     "data": {
      "text/plain": [
       "''"
      ]
     },
     "execution_count": 23,
     "metadata": {},
     "output_type": "execute_result"
    },
    {
     "data": {
      "image/png": "[encoded data removed]",
      "text/plain": [
       "<Figure size 850x300 with 1 Axes>"
      ]
     },
     "metadata": {},
     "output_type": "display_data"
    }
   ],
   "source": [
    "price_avg_df = euro_real_df[[\"date\", \"price\", \"avg_last_15_days\"]].melt(value_vars = [\"price\", \"avg_last_15_days\"], id_vars = \"date\")\n",
    "plt.figure(figsize = (8.5, 3))\n",
    "sns.lineplot(data = price_avg_df, x = \"date\", y = \"value\", hue = \"variable\")\n",
    "plt.ylabel(\"Price\")\n",
    "plt.xlabel(\"\")\n",
    "plt.legend(title = \"\", loc = \"lower right\")\n",
    ";"
   ]
  },
  {
   "cell_type": "code",
   "execution_count": 24,
   "metadata": {},
   "outputs": [
    {
     "data": {
      "image/png": "[encoded data removed]",
      "text/plain": [
       "<Figure size 900x400 with 1 Axes>"
      ]
     },
     "metadata": {},
     "output_type": "display_data"
    }
   ],
   "source": [
    "data_seg = euro_real_df.head(15)\n",
    "data_seg = data_seg.sort_values(\"date\")\n",
    "\n",
    "is_two_axis = []\n",
    "for linha in data_seg[\"is_best_price_last_15_days\"]:\n",
    "    if linha == 1:\n",
    "        two_axis = True\n",
    "        is_two_axis.append(two_axis)\n",
    "    else:\n",
    "        two_axis = False\n",
    "        is_two_axis.append(two_axis)\n",
    "\n",
    "if True in is_two_axis:\n",
    "    plt.figure(figsize = (9, 4))\n",
    "    ax = sns.barplot(data = data_seg, x = \"date\", y = \"price\", hue = \"is_best_price_last_15_days\")\n",
    "    ax.legend(title = \"Best Price?\", loc = \"lower left\")\n",
    "    ax.bar_label(ax.containers[0], fontsize = 10)\n",
    "    plt.bar_label(ax.containers[1], fontsize = 10)\n",
    "    plt.xticks(rotation=45)\n",
    "    plt.xlabel(\"\")\n",
    "    plt.ylabel(\"Price\")\n",
    "    plt.ylim(0, 6);\n",
    "if True not in is_two_axis:\n",
    "    plt.figure(figsize = (9, 4))\n",
    "    ax = sns.barplot(data = data_seg, x = \"date\", y = \"price\", hue = \"is_best_price_last_15_days\")\n",
    "    ax.legend(title = \"Best Price?\", loc = \"lower left\")\n",
    "    ax.bar_label(ax.containers[0], fontsize = 10)\n",
    "    plt.xticks(rotation=45)\n",
    "    plt.xlabel(\"\")\n",
    "    plt.ylabel(\"Price\")\n",
    "    plt.ylim(0, 6);"
   ]
  }
 ],
 "metadata": {
  "kernelspec": {
   "display_name": "base",
   "language": "python",
   "name": "python3"
  },
  "language_info": {
   "codemirror_mode": {
    "name": "ipython",
    "version": 3
   },
   "file_extension": ".py",
   "mimetype": "text/x-python",
   "name": "python",
   "nbconvert_exporter": "python",
   "pygments_lexer": "ipython3",
   "version": "3.11.4"
  }
 },
 "nbformat": 4,
 "nbformat_minor": 2
}
