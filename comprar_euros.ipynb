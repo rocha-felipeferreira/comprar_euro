{
 "cells": [
  {
   "cell_type": "markdown",
   "metadata": {},
   "source": [
    "## Extraction"
   ]
  },
  {
   "cell_type": "code",
   "execution_count": 23,
   "metadata": {},
   "outputs": [],
   "source": [
    "import pandas as pd\n",
    "import requests\n",
    "import json\n",
    "import numpy as np\n",
    "import seaborn as sns \n",
    "import matplotlib.pyplot as plt "
   ]
  },
  {
   "cell_type": "code",
   "execution_count": 24,
   "metadata": {},
   "outputs": [],
   "source": [
    "euro_real_raw = requests.get(\"https://economia.awesomeapi.com.br/json/daily/EUR-BRL/180\")"
   ]
  },
  {
   "cell_type": "code",
   "execution_count": 25,
   "metadata": {},
   "outputs": [],
   "source": [
    "euro_real_json = euro_real_raw.json()"
   ]
  },
  {
   "cell_type": "markdown",
   "metadata": {},
   "source": [
    "## Manipulation"
   ]
  },
  {
   "cell_type": "code",
   "execution_count": 26,
   "metadata": {},
   "outputs": [],
   "source": [
    "euro_real_df = pd.DataFrame(euro_real_json)[[\"high\", \"low\", \"timestamp\"]]"
   ]
  },
  {
   "cell_type": "code",
   "execution_count": 27,
   "metadata": {},
   "outputs": [],
   "source": [
    "euro_real_df[\"timestamp\"] = euro_real_df[\"timestamp\"].astype(\"int\")"
   ]
  },
  {
   "cell_type": "code",
   "execution_count": 28,
   "metadata": {},
   "outputs": [],
   "source": [
    "euro_real_df[\"high\"] = euro_real_df[\"high\"].astype(\"float\")"
   ]
  },
  {
   "cell_type": "code",
   "execution_count": 29,
   "metadata": {},
   "outputs": [],
   "source": [
    "euro_real_df[\"low\"] = euro_real_df[\"low\"].astype(\"float\")"
   ]
  },
  {
   "cell_type": "code",
   "execution_count": 30,
   "metadata": {},
   "outputs": [],
   "source": [
    "euro_real_df[\"date\"] = pd.to_datetime(euro_real_df[\"timestamp\"], unit=\"s\", origin = \"unix\")"
   ]
  },
  {
   "cell_type": "code",
   "execution_count": 31,
   "metadata": {},
   "outputs": [],
   "source": [
    "euro_real_df[\"date\"] = euro_real_df[\"date\"].dt.date"
   ]
  },
  {
   "cell_type": "code",
   "execution_count": 32,
   "metadata": {},
   "outputs": [],
   "source": [
    "euro_real_df = euro_real_df.drop(columns = [\"timestamp\"])"
   ]
  },
  {
   "cell_type": "code",
   "execution_count": 33,
   "metadata": {},
   "outputs": [],
   "source": [
    "euro_real_df[\"price\"] = (euro_real_df[\"high\"] + euro_real_df[\"low\"]) / 2"
   ]
  },
  {
   "cell_type": "code",
   "execution_count": 34,
   "metadata": {},
   "outputs": [],
   "source": [
    "euro_real_df = euro_real_df.iloc[:,2:]"
   ]
  },
  {
   "cell_type": "code",
   "execution_count": 35,
   "metadata": {},
   "outputs": [],
   "source": [
    "euro_real_df = euro_real_df.sort_values(by = \"date\", ascending = True)"
   ]
  },
  {
   "cell_type": "code",
   "execution_count": 36,
   "metadata": {},
   "outputs": [],
   "source": [
    "def rolling_avg_var_x_days(df, n_days):\n",
    "    col_name_avg = \"avg_last_\" + str(n_days) + \"_days\"\n",
    "    df[col_name_avg] = df[\"price\"].rolling(window = n_days).mean()\n",
    "    col_name_var = \"var_today_avg_last_\" + str(n_days) + \"_days\"\n",
    "    df[col_name_var] = (df[\"price\"] - df[col_name_avg])\n",
    "    df = df.sort_index()\n",
    "    df = df.dropna()\n",
    "    return df"
   ]
  },
  {
   "cell_type": "code",
   "execution_count": 37,
   "metadata": {},
   "outputs": [],
   "source": [
    "euro_real_df = rolling_avg_var_x_days(euro_real_df, 15)"
   ]
  },
  {
   "cell_type": "code",
   "execution_count": 38,
   "metadata": {},
   "outputs": [
    {
     "data": {
      "text/html": [
       "<div>\n",
       "<style scoped>\n",
       "    .dataframe tbody tr th:only-of-type {\n",
       "        vertical-align: middle;\n",
       "    }\n",
       "\n",
       "    .dataframe tbody tr th {\n",
       "        vertical-align: top;\n",
       "    }\n",
       "\n",
       "    .dataframe thead th {\n",
       "        text-align: right;\n",
       "    }\n",
       "</style>\n",
       "<table border=\"1\" class=\"dataframe\">\n",
       "  <thead>\n",
       "    <tr style=\"text-align: right;\">\n",
       "      <th></th>\n",
       "      <th>date</th>\n",
       "      <th>price</th>\n",
       "      <th>avg_last_15_days</th>\n",
       "      <th>var_today_avg_last_15_days</th>\n",
       "    </tr>\n",
       "  </thead>\n",
       "  <tbody>\n",
       "    <tr>\n",
       "      <th>0</th>\n",
       "      <td>2024-04-05</td>\n",
       "      <td>5.4727</td>\n",
       "      <td>5.413010</td>\n",
       "      <td>0.059690</td>\n",
       "    </tr>\n",
       "    <tr>\n",
       "      <th>1</th>\n",
       "      <td>2024-04-04</td>\n",
       "      <td>5.4732</td>\n",
       "      <td>5.408563</td>\n",
       "      <td>0.064637</td>\n",
       "    </tr>\n",
       "    <tr>\n",
       "      <th>2</th>\n",
       "      <td>2024-04-03</td>\n",
       "      <td>5.4619</td>\n",
       "      <td>5.405863</td>\n",
       "      <td>0.056037</td>\n",
       "    </tr>\n",
       "    <tr>\n",
       "      <th>3</th>\n",
       "      <td>2024-04-02</td>\n",
       "      <td>5.4476</td>\n",
       "      <td>5.406117</td>\n",
       "      <td>0.041483</td>\n",
       "    </tr>\n",
       "    <tr>\n",
       "      <th>4</th>\n",
       "      <td>2024-04-01</td>\n",
       "      <td>5.3848</td>\n",
       "      <td>5.406590</td>\n",
       "      <td>-0.021790</td>\n",
       "    </tr>\n",
       "  </tbody>\n",
       "</table>\n",
       "</div>"
      ],
      "text/plain": [
       "         date   price  avg_last_15_days  var_today_avg_last_15_days\n",
       "0  2024-04-05  5.4727          5.413010                    0.059690\n",
       "1  2024-04-04  5.4732          5.408563                    0.064637\n",
       "2  2024-04-03  5.4619          5.405863                    0.056037\n",
       "3  2024-04-02  5.4476          5.406117                    0.041483\n",
       "4  2024-04-01  5.3848          5.406590                   -0.021790"
      ]
     },
     "execution_count": 38,
     "metadata": {},
     "output_type": "execute_result"
    }
   ],
   "source": [
    "euro_real_df.head()"
   ]
  },
  {
   "cell_type": "code",
   "execution_count": 39,
   "metadata": {},
   "outputs": [],
   "source": [
    "euro_real_df = euro_real_df.sort_values(by = \"date\", ascending = True)"
   ]
  },
  {
   "cell_type": "code",
   "execution_count": 40,
   "metadata": {},
   "outputs": [],
   "source": [
    "def rolling_min_var_x_days(df, n_days):\n",
    "    col_name_min = \"min_last_\" + str(n_days) + \"_days\"\n",
    "    df[col_name_min] = df[\"price\"].rolling(window = n_days).min()\n",
    "    col_name_var = \"var_today_min_last_\" + str(n_days) + \"_days\"\n",
    "    df[col_name_var] = (df[\"price\"] - df[col_name_min])\n",
    "    df = df.sort_index()\n",
    "    df = df.dropna()\n",
    "    return df"
   ]
  },
  {
   "cell_type": "code",
   "execution_count": 41,
   "metadata": {},
   "outputs": [],
   "source": [
    "euro_real_df = rolling_min_var_x_days(euro_real_df, 15)"
   ]
  },
  {
   "cell_type": "code",
   "execution_count": 42,
   "metadata": {},
   "outputs": [
    {
     "data": {
      "text/html": [
       "<div>\n",
       "<style scoped>\n",
       "    .dataframe tbody tr th:only-of-type {\n",
       "        vertical-align: middle;\n",
       "    }\n",
       "\n",
       "    .dataframe tbody tr th {\n",
       "        vertical-align: top;\n",
       "    }\n",
       "\n",
       "    .dataframe thead th {\n",
       "        text-align: right;\n",
       "    }\n",
       "</style>\n",
       "<table border=\"1\" class=\"dataframe\">\n",
       "  <thead>\n",
       "    <tr style=\"text-align: right;\">\n",
       "      <th></th>\n",
       "      <th>date</th>\n",
       "      <th>price</th>\n",
       "      <th>avg_last_15_days</th>\n",
       "      <th>var_today_avg_last_15_days</th>\n",
       "      <th>min_last_15_days</th>\n",
       "      <th>var_today_min_last_15_days</th>\n",
       "    </tr>\n",
       "  </thead>\n",
       "  <tbody>\n",
       "    <tr>\n",
       "      <th>0</th>\n",
       "      <td>2024-04-05</td>\n",
       "      <td>5.4727</td>\n",
       "      <td>5.413010</td>\n",
       "      <td>0.059690</td>\n",
       "      <td>5.3848</td>\n",
       "      <td>0.0879</td>\n",
       "    </tr>\n",
       "    <tr>\n",
       "      <th>1</th>\n",
       "      <td>2024-04-04</td>\n",
       "      <td>5.4732</td>\n",
       "      <td>5.408563</td>\n",
       "      <td>0.064637</td>\n",
       "      <td>5.3848</td>\n",
       "      <td>0.0884</td>\n",
       "    </tr>\n",
       "    <tr>\n",
       "      <th>2</th>\n",
       "      <td>2024-04-03</td>\n",
       "      <td>5.4619</td>\n",
       "      <td>5.405863</td>\n",
       "      <td>0.056037</td>\n",
       "      <td>5.3848</td>\n",
       "      <td>0.0771</td>\n",
       "    </tr>\n",
       "    <tr>\n",
       "      <th>3</th>\n",
       "      <td>2024-04-02</td>\n",
       "      <td>5.4476</td>\n",
       "      <td>5.406117</td>\n",
       "      <td>0.041483</td>\n",
       "      <td>5.3848</td>\n",
       "      <td>0.0628</td>\n",
       "    </tr>\n",
       "    <tr>\n",
       "      <th>4</th>\n",
       "      <td>2024-04-01</td>\n",
       "      <td>5.3848</td>\n",
       "      <td>5.406590</td>\n",
       "      <td>-0.021790</td>\n",
       "      <td>5.3848</td>\n",
       "      <td>0.0000</td>\n",
       "    </tr>\n",
       "  </tbody>\n",
       "</table>\n",
       "</div>"
      ],
      "text/plain": [
       "         date   price  avg_last_15_days  var_today_avg_last_15_days  \\\n",
       "0  2024-04-05  5.4727          5.413010                    0.059690   \n",
       "1  2024-04-04  5.4732          5.408563                    0.064637   \n",
       "2  2024-04-03  5.4619          5.405863                    0.056037   \n",
       "3  2024-04-02  5.4476          5.406117                    0.041483   \n",
       "4  2024-04-01  5.3848          5.406590                   -0.021790   \n",
       "\n",
       "   min_last_15_days  var_today_min_last_15_days  \n",
       "0            5.3848                      0.0879  \n",
       "1            5.3848                      0.0884  \n",
       "2            5.3848                      0.0771  \n",
       "3            5.3848                      0.0628  \n",
       "4            5.3848                      0.0000  "
      ]
     },
     "execution_count": 42,
     "metadata": {},
     "output_type": "execute_result"
    }
   ],
   "source": [
    "euro_real_df.head()"
   ]
  },
  {
   "cell_type": "code",
   "execution_count": 43,
   "metadata": {},
   "outputs": [],
   "source": [
    "euro_real_df[\"is_best_price_last_15_days\"] = np.where(euro_real_df.price == euro_real_df.min_last_15_days, 1, 0)"
   ]
  },
  {
   "cell_type": "code",
   "execution_count": 181,
   "metadata": {},
   "outputs": [],
   "source": [
    "euro_real_df[\"price\"] = round(euro_real_df[\"price\"], 2)"
   ]
  },
  {
   "cell_type": "markdown",
   "metadata": {},
   "source": [
    "## Visualisation"
   ]
  },
  {
   "cell_type": "code",
   "execution_count": 182,
   "metadata": {},
   "outputs": [
    {
     "data": {
      "text/plain": [
       "''"
      ]
     },
     "execution_count": 182,
     "metadata": {},
     "output_type": "execute_result"
    },
    {
     "data": {
      "image/png": "[encoded data removed]",
      "text/plain": [
       "<Figure size 850x300 with 1 Axes>"
      ]
     },
     "metadata": {},
     "output_type": "display_data"
    }
   ],
   "source": [
    "price_avg_df = euro_real_df[[\"date\", \"price\", \"avg_last_15_days\"]].melt(value_vars = [\"price\", \"avg_last_15_days\"], id_vars = \"date\")\n",
    "plt.figure(figsize = (8.5, 3))\n",
    "sns.lineplot(data = price_avg_df, x = \"date\", y = \"value\", hue = \"variable\")\n",
    "plt.ylabel(\"Price\")\n",
    "plt.xlabel(\"\")\n",
    "plt.legend(title = \"\", loc = \"lower right\")\n",
    ";"
   ]
  },
  {
   "cell_type": "code",
   "execution_count": 225,
   "metadata": {},
   "outputs": [
    {
     "data": {
      "text/plain": [
       "''"
      ]
     },
     "execution_count": 225,
     "metadata": {},
     "output_type": "execute_result"
    },
    {
     "data": {
      "image/png": "[encoded data removed]",
      "text/plain": [
       "<Figure size 850x300 with 1 Axes>"
      ]
     },
     "metadata": {},
     "output_type": "display_data"
    }
   ],
   "source": [
    "data_seg = euro_real_df.head(15)\n",
    "data_seg = data_seg.sort_values(\"date\")\n",
    "plt.figure(figsize = (8.5, 3))\n",
    "ax = sns.barplot(data = data_seg, x = \"date\", y = \"price\", hue = \"is_best_price_last_15_days\")\n",
    "ax.legend(title = \"Best Price?\", loc = \"lower left\")\n",
    "plt.bar_label(ax.containers[0], fontsize = 10)\n",
    "plt.bar_label(ax.containers[1], fontsize = 10)\n",
    "plt.xticks(rotation=45)\n",
    "plt.xlabel(\"\")\n",
    "plt.ylabel(\"Price\")\n",
    "plt.ylim(0, 6)\n",
    ";"
   ]
  },
  {
   "cell_type": "code",
   "execution_count": null,
   "metadata": {},
   "outputs": [],
   "source": []
  }
 ],
 "metadata": {
  "kernelspec": {
   "display_name": "base",
   "language": "python",
   "name": "python3"
  },
  "language_info": {
   "codemirror_mode": {
    "name": "ipython",
    "version": 3
   },
   "file_extension": ".py",
   "mimetype": "text/x-python",
   "name": "python",
   "nbconvert_exporter": "python",
   "pygments_lexer": "ipython3",
   "version": "3.11.4"
  }
 },
 "nbformat": 4,
 "nbformat_minor": 2
}
