{
 "cells": [
  {
   "cell_type": "markdown",
   "metadata": {},
   "source": [
    "## Extraction"
   ]
  },
  {
   "cell_type": "code",
   "execution_count": 100,
   "metadata": {},
   "outputs": [],
   "source": [
    "import pandas as pd\n",
    "import requests\n",
    "import json\n",
    "import numpy as np\n",
    "import seaborn as sns \n",
    "import matplotlib.pyplot as plt "
   ]
  },
  {
   "cell_type": "code",
   "execution_count": 101,
   "metadata": {},
   "outputs": [],
   "source": [
    "euro_real_raw = requests.get(\"https://economia.awesomeapi.com.br/json/daily/EUR-BRL/180\")"
   ]
  },
  {
   "cell_type": "code",
   "execution_count": 102,
   "metadata": {},
   "outputs": [],
   "source": [
    "euro_real_json = euro_real_raw.json()"
   ]
  },
  {
   "cell_type": "markdown",
   "metadata": {},
   "source": [
    "## Manipulation"
   ]
  },
  {
   "cell_type": "code",
   "execution_count": 103,
   "metadata": {},
   "outputs": [],
   "source": [
    "euro_real_df = pd.DataFrame(euro_real_json)[[\"high\", \"low\", \"timestamp\"]]"
   ]
  },
  {
   "cell_type": "code",
   "execution_count": 104,
   "metadata": {},
   "outputs": [],
   "source": [
    "euro_real_df[\"timestamp\"] = euro_real_df[\"timestamp\"].astype(\"int\")"
   ]
  },
  {
   "cell_type": "code",
   "execution_count": 105,
   "metadata": {},
   "outputs": [],
   "source": [
    "euro_real_df[\"high\"] = euro_real_df[\"high\"].astype(\"float\")"
   ]
  },
  {
   "cell_type": "code",
   "execution_count": 106,
   "metadata": {},
   "outputs": [],
   "source": [
    "euro_real_df[\"low\"] = euro_real_df[\"low\"].astype(\"float\")"
   ]
  },
  {
   "cell_type": "code",
   "execution_count": 107,
   "metadata": {},
   "outputs": [],
   "source": [
    "euro_real_df[\"date\"] = pd.to_datetime(euro_real_df[\"timestamp\"], unit=\"s\", origin = \"unix\")"
   ]
  },
  {
   "cell_type": "code",
   "execution_count": 108,
   "metadata": {},
   "outputs": [],
   "source": [
    "euro_real_df[\"date\"] = euro_real_df[\"date\"].dt.date"
   ]
  },
  {
   "cell_type": "code",
   "execution_count": 109,
   "metadata": {},
   "outputs": [],
   "source": [
    "euro_real_df = euro_real_df.drop(columns = [\"timestamp\"])"
   ]
  },
  {
   "cell_type": "code",
   "execution_count": 110,
   "metadata": {},
   "outputs": [],
   "source": [
    "euro_real_df[\"price\"] = (euro_real_df[\"high\"] + euro_real_df[\"low\"]) / 2"
   ]
  },
  {
   "cell_type": "code",
   "execution_count": 111,
   "metadata": {},
   "outputs": [],
   "source": [
    "euro_real_df = euro_real_df.iloc[:,2:]"
   ]
  },
  {
   "cell_type": "code",
   "execution_count": 112,
   "metadata": {},
   "outputs": [],
   "source": [
    "euro_real_df = euro_real_df.sort_values(by = \"date\", ascending = True)"
   ]
  },
  {
   "cell_type": "code",
   "execution_count": 113,
   "metadata": {},
   "outputs": [],
   "source": [
    "def rolling_avg_var_x_days(df, n_days):\n",
    "    col_name_avg = \"avg_last_\" + str(n_days) + \"_days\"\n",
    "    df[col_name_avg] = df[\"price\"].rolling(window = n_days).mean()\n",
    "    col_name_var = \"var_today_avg_last_\" + str(n_days) + \"_days\"\n",
    "    df[col_name_var] = (df[\"price\"] - df[col_name_avg])\n",
    "    df = df.sort_index()\n",
    "    df = df.dropna()\n",
    "    return df"
   ]
  },
  {
   "cell_type": "code",
   "execution_count": 114,
   "metadata": {},
   "outputs": [],
   "source": [
    "euro_real_df = rolling_avg_var_x_days(euro_real_df, 15)"
   ]
  },
  {
   "cell_type": "code",
   "execution_count": 115,
   "metadata": {},
   "outputs": [
    {
     "data": {
      "text/html": [
       "<div>\n",
       "<style scoped>\n",
       "    .dataframe tbody tr th:only-of-type {\n",
       "        vertical-align: middle;\n",
       "    }\n",
       "\n",
       "    .dataframe tbody tr th {\n",
       "        vertical-align: top;\n",
       "    }\n",
       "\n",
       "    .dataframe thead th {\n",
       "        text-align: right;\n",
       "    }\n",
       "</style>\n",
       "<table border=\"1\" class=\"dataframe\">\n",
       "  <thead>\n",
       "    <tr style=\"text-align: right;\">\n",
       "      <th></th>\n",
       "      <th>date</th>\n",
       "      <th>price</th>\n",
       "      <th>avg_last_15_days</th>\n",
       "      <th>var_today_avg_last_15_days</th>\n",
       "    </tr>\n",
       "  </thead>\n",
       "  <tbody>\n",
       "    <tr>\n",
       "      <th>0</th>\n",
       "      <td>2024-04-19</td>\n",
       "      <td>5.5996</td>\n",
       "      <td>5.497263</td>\n",
       "      <td>0.102337</td>\n",
       "    </tr>\n",
       "    <tr>\n",
       "      <th>1</th>\n",
       "      <td>2024-04-18</td>\n",
       "      <td>5.5871</td>\n",
       "      <td>5.488837</td>\n",
       "      <td>0.098263</td>\n",
       "    </tr>\n",
       "    <tr>\n",
       "      <th>2</th>\n",
       "      <td>2024-04-17</td>\n",
       "      <td>5.6102</td>\n",
       "      <td>5.480490</td>\n",
       "      <td>0.129710</td>\n",
       "    </tr>\n",
       "    <tr>\n",
       "      <th>3</th>\n",
       "      <td>2024-04-16</td>\n",
       "      <td>5.5945</td>\n",
       "      <td>5.469650</td>\n",
       "      <td>0.124850</td>\n",
       "    </tr>\n",
       "    <tr>\n",
       "      <th>4</th>\n",
       "      <td>2024-04-15</td>\n",
       "      <td>5.5077</td>\n",
       "      <td>5.455670</td>\n",
       "      <td>0.052030</td>\n",
       "    </tr>\n",
       "  </tbody>\n",
       "</table>\n",
       "</div>"
      ],
      "text/plain": [
       "         date   price  avg_last_15_days  var_today_avg_last_15_days\n",
       "0  2024-04-19  5.5996          5.497263                    0.102337\n",
       "1  2024-04-18  5.5871          5.488837                    0.098263\n",
       "2  2024-04-17  5.6102          5.480490                    0.129710\n",
       "3  2024-04-16  5.5945          5.469650                    0.124850\n",
       "4  2024-04-15  5.5077          5.455670                    0.052030"
      ]
     },
     "execution_count": 115,
     "metadata": {},
     "output_type": "execute_result"
    }
   ],
   "source": [
    "euro_real_df.head()"
   ]
  },
  {
   "cell_type": "code",
   "execution_count": 116,
   "metadata": {},
   "outputs": [],
   "source": [
    "euro_real_df = euro_real_df.sort_values(by = \"date\", ascending = True)"
   ]
  },
  {
   "cell_type": "code",
   "execution_count": 117,
   "metadata": {},
   "outputs": [],
   "source": [
    "def rolling_min_var_x_days(df, n_days):\n",
    "    col_name_min = \"min_last_\" + str(n_days) + \"_days\"\n",
    "    df[col_name_min] = df[\"price\"].rolling(window = n_days).min()\n",
    "    col_name_var = \"var_today_min_last_\" + str(n_days) + \"_days\"\n",
    "    df[col_name_var] = (df[\"price\"] - df[col_name_min])\n",
    "    df = df.sort_index()\n",
    "    df = df.dropna()\n",
    "    return df"
   ]
  },
  {
   "cell_type": "code",
   "execution_count": 118,
   "metadata": {},
   "outputs": [],
   "source": [
    "euro_real_df = rolling_min_var_x_days(euro_real_df, 15)"
   ]
  },
  {
   "cell_type": "code",
   "execution_count": 119,
   "metadata": {},
   "outputs": [
    {
     "data": {
      "text/html": [
       "<div>\n",
       "<style scoped>\n",
       "    .dataframe tbody tr th:only-of-type {\n",
       "        vertical-align: middle;\n",
       "    }\n",
       "\n",
       "    .dataframe tbody tr th {\n",
       "        vertical-align: top;\n",
       "    }\n",
       "\n",
       "    .dataframe thead th {\n",
       "        text-align: right;\n",
       "    }\n",
       "</style>\n",
       "<table border=\"1\" class=\"dataframe\">\n",
       "  <thead>\n",
       "    <tr style=\"text-align: right;\">\n",
       "      <th></th>\n",
       "      <th>date</th>\n",
       "      <th>price</th>\n",
       "      <th>avg_last_15_days</th>\n",
       "      <th>var_today_avg_last_15_days</th>\n",
       "      <th>min_last_15_days</th>\n",
       "      <th>var_today_min_last_15_days</th>\n",
       "    </tr>\n",
       "  </thead>\n",
       "  <tbody>\n",
       "    <tr>\n",
       "      <th>0</th>\n",
       "      <td>2024-04-19</td>\n",
       "      <td>5.5996</td>\n",
       "      <td>5.497263</td>\n",
       "      <td>0.102337</td>\n",
       "      <td>5.4185</td>\n",
       "      <td>0.1811</td>\n",
       "    </tr>\n",
       "    <tr>\n",
       "      <th>1</th>\n",
       "      <td>2024-04-18</td>\n",
       "      <td>5.5871</td>\n",
       "      <td>5.488837</td>\n",
       "      <td>0.098263</td>\n",
       "      <td>5.4185</td>\n",
       "      <td>0.1686</td>\n",
       "    </tr>\n",
       "    <tr>\n",
       "      <th>2</th>\n",
       "      <td>2024-04-17</td>\n",
       "      <td>5.6102</td>\n",
       "      <td>5.480490</td>\n",
       "      <td>0.129710</td>\n",
       "      <td>5.4185</td>\n",
       "      <td>0.1917</td>\n",
       "    </tr>\n",
       "    <tr>\n",
       "      <th>3</th>\n",
       "      <td>2024-04-16</td>\n",
       "      <td>5.5945</td>\n",
       "      <td>5.469650</td>\n",
       "      <td>0.124850</td>\n",
       "      <td>5.4185</td>\n",
       "      <td>0.1760</td>\n",
       "    </tr>\n",
       "    <tr>\n",
       "      <th>4</th>\n",
       "      <td>2024-04-15</td>\n",
       "      <td>5.5077</td>\n",
       "      <td>5.455670</td>\n",
       "      <td>0.052030</td>\n",
       "      <td>5.3848</td>\n",
       "      <td>0.1229</td>\n",
       "    </tr>\n",
       "  </tbody>\n",
       "</table>\n",
       "</div>"
      ],
      "text/plain": [
       "         date   price  avg_last_15_days  var_today_avg_last_15_days  \\\n",
       "0  2024-04-19  5.5996          5.497263                    0.102337   \n",
       "1  2024-04-18  5.5871          5.488837                    0.098263   \n",
       "2  2024-04-17  5.6102          5.480490                    0.129710   \n",
       "3  2024-04-16  5.5945          5.469650                    0.124850   \n",
       "4  2024-04-15  5.5077          5.455670                    0.052030   \n",
       "\n",
       "   min_last_15_days  var_today_min_last_15_days  \n",
       "0            5.4185                      0.1811  \n",
       "1            5.4185                      0.1686  \n",
       "2            5.4185                      0.1917  \n",
       "3            5.4185                      0.1760  \n",
       "4            5.3848                      0.1229  "
      ]
     },
     "execution_count": 119,
     "metadata": {},
     "output_type": "execute_result"
    }
   ],
   "source": [
    "euro_real_df.head()"
   ]
  },
  {
   "cell_type": "code",
   "execution_count": 120,
   "metadata": {},
   "outputs": [],
   "source": [
    "euro_real_df[\"is_best_price_last_15_days\"] = np.where(euro_real_df.price == euro_real_df.min_last_15_days, 1, 0)"
   ]
  },
  {
   "cell_type": "code",
   "execution_count": 121,
   "metadata": {},
   "outputs": [],
   "source": [
    "euro_real_df[\"price\"] = round(euro_real_df[\"price\"], 2)"
   ]
  },
  {
   "cell_type": "markdown",
   "metadata": {},
   "source": [
    "## Visualisation"
   ]
  },
  {
   "cell_type": "code",
   "execution_count": 122,
   "metadata": {},
   "outputs": [
    {
     "data": {
      "text/plain": [
       "''"
      ]
     },
     "execution_count": 122,
     "metadata": {},
     "output_type": "execute_result"
    },
    {
     "data": {
      "image/png": "[encoded data removed]",
      "text/plain": [
       "<Figure size 850x300 with 1 Axes>"
      ]
     },
     "metadata": {},
     "output_type": "display_data"
    }
   ],
   "source": [
    "price_avg_df = euro_real_df[[\"date\", \"price\", \"avg_last_15_days\"]].melt(value_vars = [\"price\", \"avg_last_15_days\"], id_vars = \"date\")\n",
    "plt.figure(figsize = (8.5, 3))\n",
    "sns.lineplot(data = price_avg_df, x = \"date\", y = \"value\", hue = \"variable\")\n",
    "plt.ylabel(\"Price\")\n",
    "plt.xlabel(\"\")\n",
    "plt.legend(title = \"\", loc = \"lower right\")\n",
    ";"
   ]
  },
  {
   "cell_type": "code",
   "execution_count": 123,
   "metadata": {},
   "outputs": [
    {
     "data": {
      "image/png": "[encoded data removed]",
      "text/plain": [
       "<Figure size 900x400 with 1 Axes>"
      ]
     },
     "metadata": {},
     "output_type": "display_data"
    }
   ],
   "source": [
    "data_seg = euro_real_df.head(15)\n",
    "data_seg = data_seg.sort_values(\"date\")\n",
    "\n",
    "is_two_axis = []\n",
    "for linha in data_seg[\"is_best_price_last_15_days\"]:\n",
    "    if linha == 1:\n",
    "        two_axis = True\n",
    "        is_two_axis.append(two_axis)\n",
    "    else:\n",
    "        two_axis = False\n",
    "        is_two_axis.append(two_axis)\n",
    "\n",
    "if True in is_two_axis:\n",
    "    plt.figure(figsize = (9, 4))\n",
    "    ax = sns.barplot(data = data_seg, x = \"date\", y = \"price\", hue = \"is_best_price_last_15_days\")\n",
    "    ax.legend(title = \"Best Price?\", loc = \"lower left\")\n",
    "    ax.bar_label(ax.containers[0], fontsize = 10)\n",
    "    plt.bar_label(ax.containers[1], fontsize = 10)\n",
    "    plt.xticks(rotation=45)\n",
    "    plt.xlabel(\"\")\n",
    "    plt.ylabel(\"Price\")\n",
    "    plt.ylim(0, 6);\n",
    "if True not in is_two_axis:\n",
    "    plt.figure(figsize = (9, 4))\n",
    "    ax = sns.barplot(data = data_seg, x = \"date\", y = \"price\", hue = \"is_best_price_last_15_days\")\n",
    "    ax.legend(title = \"Best Price?\", loc = \"lower left\")\n",
    "    ax.bar_label(ax.containers[0], fontsize = 10)\n",
    "    plt.xticks(rotation=45)\n",
    "    plt.xlabel(\"\")\n",
    "    plt.ylabel(\"Price\")\n",
    "    plt.ylim(0, 6);"
   ]
  }
 ],
 "metadata": {
  "kernelspec": {
   "display_name": "base",
   "language": "python",
   "name": "python3"
  },
  "language_info": {
   "codemirror_mode": {
    "name": "ipython",
    "version": 3
   },
   "file_extension": ".py",
   "mimetype": "text/x-python",
   "name": "python",
   "nbconvert_exporter": "python",
   "pygments_lexer": "ipython3",
   "version": "3.11.4"
  }
 },
 "nbformat": 4,
 "nbformat_minor": 2
}
